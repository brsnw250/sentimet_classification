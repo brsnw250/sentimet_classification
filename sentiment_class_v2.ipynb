{
 "cells": [
  {
   "cell_type": "code",
   "execution_count": 1,
   "metadata": {},
   "outputs": [],
   "source": [
    "import os\n",
    "import re\n",
    "import pandas as pd\n",
    "import seaborn as sns\n",
    "import matplotlib.pyplot as plt\n",
    "import numpy as np\n",
    "import itertools as it\n",
    "from bs4 import BeautifulSoup\n",
    "from nltk.tokenize import word_tokenize\n",
    "from nltk.corpus import stopwords\n",
    "from nltk.stem import PorterStemmer, WordNetLemmatizer\n",
    "from nltk import FreqDist\n",
    "from sklearn.metrics import (\n",
    "    confusion_matrix,\n",
    "    roc_auc_score,\n",
    "    roc_curve,\n",
    "    classification_report\n",
    ")\n",
    "from tensorflow.keras.preprocessing import sequence\n",
    "from gensim.models import Word2Vec\n",
    "from tensorflow.keras.layers import (\n",
    "    Dense,\n",
    "    LSTM,\n",
    "    Dropout,\n",
    "    Embedding,\n",
    "    Flatten,\n",
    "    Bidirectional\n",
    ")\n",
    "from tensorflow.keras.models import Sequential\n",
    "from tensorflow.keras.optimizers import Adam\n",
    "import tensorflow as tf\n",
    "\n",
    "#  constants for train and test data paths\n",
    "TRAIN_FOLDER = 'aclImdb/train'\n",
    "TEST_FOLDER = 'aclImdb/test'"
   ]
  },
  {
   "cell_type": "code",
   "execution_count": 2,
   "metadata": {},
   "outputs": [],
   "source": [
    "def auc_score(y_true, y_pred):\n",
    "    \"\"\"Calculate area under ROC curve\"\"\"\n",
    "    score = tf.py_function(roc_auc_score, (y_true, y_pred), float)\n",
    "    return score\n",
    "\n",
    "\n",
    "def load_data(path):\n",
    "    \"\"\"Load data from specified path.\n",
    "    \n",
    "    Args:\n",
    "        path: path to review files.\n",
    "    \n",
    "    Returns:\n",
    "        list: list of reviews.\n",
    "        \n",
    "    \"\"\"\n",
    "    data = []\n",
    "    files = os.listdir(path)\n",
    "    for i, f_name in enumerate(files):\n",
    "        print(\n",
    "            '\\rReading from %s ...%.2f' % (path, float(i) / len(files)),\n",
    "            end='',\n",
    "            flush=True\n",
    "        )\n",
    "        with open(os.path.join(path, f_name), 'r', encoding='utf-8') as f:\n",
    "            data.append(f.readline())\n",
    "    print()\n",
    "    return data\n",
    "\n",
    "\n",
    "def conf_matrix_plot(true_l, pred_l, mask=('neg', 'pos')):\n",
    "    \"\"\"Plot confusion matrix.\n",
    "    \n",
    "    Args:\n",
    "        true_l: true class lables for observations.\n",
    "        pred_l: predicted class labels from model.\n",
    "        mask (:obj:`tuple`, optional): labels for rows and columns\n",
    "            of confusion matrix. Defaults to ('neg', 'pos').\n",
    "        \n",
    "    \"\"\"\n",
    "    matrx = pd.DataFrame(\n",
    "        confusion_matrix(true_l, pred_l), columns=mask, index=mask\n",
    "    )\n",
    "    cmap = sns.diverging_palette(220, 10, as_cmap=True)\n",
    "    plt.figure()\n",
    "    sns.heatmap(matrx, cmap=cmap, annot=True, square=True)\n",
    "    plt.title('Confusion matrix')\n",
    "\n",
    "    \n",
    "def token_process(\n",
    "    text, s_words=None, min_l=3, stemming=False, \n",
    "    lemmatize=False, rem_punctuation=False\n",
    "):\n",
    "    \"\"\"Token preprocessing function.\n",
    "    \n",
    "    Supported procedures are: stop words and punctuation marks\n",
    "    removing, token length control, stemming, lemmatization.\n",
    "    \n",
    "    Args:\n",
    "        text: list of tokens to process.\n",
    "        s_words(:obj:`list`, optional): stop words to be removed\n",
    "            from tokens. Defaults to None.\n",
    "        min_l(int, optional): minimum token length to keep.\n",
    "        stemming(bool, optional): for stemming enabling.\n",
    "        lemmatize(bool, optional): for lemmatization enabling.\n",
    "        rem_punctuation(bool, optional): for punctuation removing enabling.\n",
    "    \n",
    "    Returns:\n",
    "        list: list of processed tokens.\n",
    "    \n",
    "    \"\"\"\n",
    "    s_words = [] if s_words is None else s_words\n",
    "    signs = set('\\'\".,?!`')\n",
    "    \n",
    "    if rem_punctuation:\n",
    "        text = filter(\n",
    "            lambda x: len(set(x).intersection(signs)) == 0, text\n",
    "        )\n",
    "    \n",
    "    text = filter(lambda x: (len(x)>=min_l) and (x not in s_words), text)\n",
    "    \n",
    "    if stemming:\n",
    "        stemmer = PorterStemmer()\n",
    "        text = map(lambda x: stemmer.stem(x), text)\n",
    "    \n",
    "    if lemmatize:\n",
    "        lemmatizer = WordNetLemmatizer()\n",
    "        text = map(lambda x: lemmatizer.lemmatize(x), text)\n",
    "        text = map(lambda x: lemmatizer.lemmatize(x, pos='v'), text)\n",
    "        \n",
    "    return list(text)\n",
    "    \n",
    "    \n",
    "def tokenizer(data, after_process=True, **kwargs):\n",
    "    \"\"\"Review tokenization function.\n",
    "    \n",
    "    Convert text representation of review to tokens.\n",
    "    Then optionaly apply token preprocessing.\n",
    "    \n",
    "    Args:\n",
    "        data: raw review in text format.\n",
    "        after_process(bool, optional): for token preprocessing\n",
    "            enabling.\n",
    "        **kwargs: keyword arguments for token preprocessing\n",
    "            function.\n",
    "    \n",
    "    Returns:\n",
    "        list: tokenized review.\n",
    "    \n",
    "    \"\"\"\n",
    "    #     tokens = word_tokenize(data)\n",
    "    tokens = re.findall(r'[a-zA-Z]+', data)\n",
    "    tokens = [x.lower() for x in tokens]\n",
    "    \n",
    "    if after_process:\n",
    "        stop_words = set(stopwords.words('english'))\n",
    "        tokens = token_process(tokens, stop_words, **kwargs)\n",
    "        \n",
    "    return tokens\n",
    "\n",
    "\n",
    "def get_rnn(data_shape, vocab_size, emb_shape=32, drop_prob=0.2, embedding=None):\n",
    "    \"\"\"Initializing neural network.\n",
    "    \n",
    "    Initializing model with one layer of bidirectional LSTM\n",
    "    cells and two fully-connected layers. Applying dropout \n",
    "    after each hidden layer. Model can use custom weights \n",
    "    for word embedding layer.\n",
    "    \n",
    "    Args:\n",
    "        data_shape: review shape.\n",
    "        vocab_size: size of vocabulary.\n",
    "        emb_shape(int, optional): embedding dimension.\n",
    "        drop_prob(float, optional): dropout probability.\n",
    "        embedding(:obj:`list`, optional): list of weights\n",
    "            for custom embedding.\n",
    "    \n",
    "    Returns:\n",
    "        tf.keras.Model: initialized LSTM model.\n",
    "    \n",
    "    \"\"\"\n",
    "    trainable = False if embedding is not None else True\n",
    "    weights = [embedding] if embedding is not None else None\n",
    "    model = Sequential()\n",
    "    model.add(\n",
    "        Embedding(\n",
    "            vocab_size + 1,\n",
    "            emb_shape,\n",
    "            input_length=data_shape[0],\n",
    "            weights=weights,\n",
    "            trainable=trainable\n",
    "        )\n",
    "    )\n",
    "    model.add(Dropout(drop_prob))\n",
    "    \n",
    "    model.add(Bidirectional(LSTM(50, return_sequences=True)))\n",
    "    model.add(Dropout(drop_prob))\n",
    "    \n",
    "    model.add(Flatten())\n",
    "    model.add(Dense(8, activation='relu'))\n",
    "    model.add(Dropout(drop_prob))\n",
    "    model.add(Dense(1, activation='sigmoid'))\n",
    "    model.summary()\n",
    "    return model"
   ]
  },
  {
   "cell_type": "code",
   "execution_count": 3,
   "metadata": {},
   "outputs": [
    {
     "name": "stdout",
     "output_type": "stream",
     "text": [
      "Reading from aclImdb/train\\pos ...1.00\n",
      "Reading from aclImdb/train\\neg ...1.00\n",
      "Reading from aclImdb/test\\pos ...1.00\n",
      "Reading from aclImdb/test\\neg ...1.00\n"
     ]
    },
    {
     "data": {
      "text/html": [
       "<div>\n",
       "<style scoped>\n",
       "    .dataframe tbody tr th:only-of-type {\n",
       "        vertical-align: middle;\n",
       "    }\n",
       "\n",
       "    .dataframe tbody tr th {\n",
       "        vertical-align: top;\n",
       "    }\n",
       "\n",
       "    .dataframe thead th {\n",
       "        text-align: right;\n",
       "    }\n",
       "</style>\n",
       "<table border=\"1\" class=\"dataframe\">\n",
       "  <thead>\n",
       "    <tr style=\"text-align: right;\">\n",
       "      <th></th>\n",
       "      <th>comments</th>\n",
       "      <th>sentiment</th>\n",
       "    </tr>\n",
       "  </thead>\n",
       "  <tbody>\n",
       "    <tr>\n",
       "      <th>0</th>\n",
       "      <td>The film is partly a thriller and partly a pub...</td>\n",
       "      <td>1.0</td>\n",
       "    </tr>\n",
       "    <tr>\n",
       "      <th>1</th>\n",
       "      <td>This film on paper looked like it could possib...</td>\n",
       "      <td>0.0</td>\n",
       "    </tr>\n",
       "    <tr>\n",
       "      <th>2</th>\n",
       "      <td>This movie is an abomination, and its making s...</td>\n",
       "      <td>0.0</td>\n",
       "    </tr>\n",
       "    <tr>\n",
       "      <th>3</th>\n",
       "      <td>Before I continue forth with the new millenniu...</td>\n",
       "      <td>1.0</td>\n",
       "    </tr>\n",
       "    <tr>\n",
       "      <th>4</th>\n",
       "      <td>I was also on hand for the premiere in Toronto...</td>\n",
       "      <td>1.0</td>\n",
       "    </tr>\n",
       "  </tbody>\n",
       "</table>\n",
       "</div>"
      ],
      "text/plain": [
       "                                            comments  sentiment\n",
       "0  The film is partly a thriller and partly a pub...        1.0\n",
       "1  This film on paper looked like it could possib...        0.0\n",
       "2  This movie is an abomination, and its making s...        0.0\n",
       "3  Before I continue forth with the new millenniu...        1.0\n",
       "4  I was also on hand for the premiere in Toronto...        1.0"
      ]
     },
     "execution_count": 3,
     "metadata": {},
     "output_type": "execute_result"
    }
   ],
   "source": [
    "# load data and form class labels\n",
    "\n",
    "pos_path_train = os.path.join(TRAIN_FOLDER, 'pos')\n",
    "neg_path_train = os.path.join(TRAIN_FOLDER, 'neg')\n",
    "pos_path_test = os.path.join(TEST_FOLDER, 'pos')\n",
    "neg_path_test = os.path.join(TEST_FOLDER, 'neg')\n",
    "\n",
    "comments = (\n",
    "    load_data(pos_path_train)\n",
    "    + load_data(neg_path_train)\n",
    "    + load_data(pos_path_test)\n",
    "    + load_data(neg_path_test)\n",
    ")\n",
    "\n",
    "labels = np.zeros([len(comments) // 2])\n",
    "labels[: len(comments) // 4] += 1\n",
    "labels = list(labels) * 2\n",
    "\n",
    "df = pd.DataFrame({'comments': comments, 'sentiment': labels})\n",
    "df = df.sample(frac=1.).reset_index(drop=True)\n",
    "all_text = df['comments'].str.cat(sep=' ')\n",
    "df.head()"
   ]
  },
  {
   "cell_type": "markdown",
   "metadata": {},
   "source": [
    "<br>In the cell below presented first view of dataset. All reviews were splitted to tokens and all frequencies were calculated across whole dataset.</br>"
   ]
  },
  {
   "cell_type": "code",
   "execution_count": 4,
   "metadata": {},
   "outputs": [
    {
     "data": {
      "text/plain": [
       "<matplotlib.axes._subplots.AxesSubplot at 0x1e907bfd4c8>"
      ]
     },
     "execution_count": 4,
     "metadata": {},
     "output_type": "execute_result"
    },
    {
     "data": {
      "image/png": "[encoded data removed]",
      "text/plain": [
       "<Figure size 1080x720 with 1 Axes>"
      ]
     },
     "metadata": {
      "needs_background": "light"
     },
     "output_type": "display_data"
    }
   ],
   "source": [
    "cleaned_text = BeautifulSoup(all_text).get_text()  # removing html tags\n",
    "\n",
    "words = word_tokenize(cleaned_text)\n",
    "words = [x.lower() for x in words]\n",
    "\n",
    "frequencies = FreqDist(words)\n",
    "words = sorted(frequencies, reverse=True, key=lambda x: frequencies[x])\n",
    "\n",
    "plt.figure(figsize=(15, 10))\n",
    "plt.title('Top 20 most frequent words')\n",
    "sns.barplot(x=words[:20], y=[frequencies[x] for x in words[:20]])"
   ]
  },
  {
   "cell_type": "markdown",
   "metadata": {},
   "source": [
    "<br>From the diagram above we can see that top positions in frequency list are received by stop words and punctuation marks.\n",
    "They are not significant while classification, so we can remove them.</br>"
   ]
  },
  {
   "cell_type": "code",
   "execution_count": 5,
   "metadata": {},
   "outputs": [
    {
     "data": {
      "text/plain": [
       "<matplotlib.axes._subplots.AxesSubplot at 0x1e90a5c5148>"
      ]
     },
     "execution_count": 5,
     "metadata": {},
     "output_type": "execute_result"
    },
    {
     "data": {
      "image/png": "[encoded data removed]",
      "text/plain": [
       "<Figure size 1080x720 with 1 Axes>"
      ]
     },
     "metadata": {
      "needs_background": "light"
     },
     "output_type": "display_data"
    }
   ],
   "source": [
    "words = token_process(\n",
    "    words, s_words=set(stopwords.words('english')), min_l=2, rem_punctuation=True\n",
    ")\n",
    "\n",
    "plt.figure(figsize=(15, 10))\n",
    "plt.title('Top 20 most frequent words')\n",
    "sns.barplot(x=words[:20], y=[frequencies[x] for x in words[:20]])"
   ]
  },
  {
   "cell_type": "markdown",
   "metadata": {},
   "source": [
    "<br>To bring all words to the same form I applied lemmatization. Note that frequencies changed significantly even for top frequent words.</br>"
   ]
  },
  {
   "cell_type": "code",
   "execution_count": 6,
   "metadata": {},
   "outputs": [
    {
     "data": {
      "text/plain": [
       "<matplotlib.axes._subplots.AxesSubplot at 0x1e90bd89588>"
      ]
     },
     "execution_count": 6,
     "metadata": {},
     "output_type": "execute_result"
    },
    {
     "data": {
      "image/png": "[encoded data removed]",
      "text/plain": [
       "<Figure size 1080x720 with 1 Axes>"
      ]
     },
     "metadata": {
      "needs_background": "light"
     },
     "output_type": "display_data"
    }
   ],
   "source": [
    "sentencies = tokenizer(cleaned_text, lemmatize=True, min_l=2)\n",
    "frequencies = FreqDist(sentencies)\n",
    "words = sorted(frequencies, reverse=True, key=lambda x: frequencies[x])\n",
    "\n",
    "plt.figure(figsize=(15, 10))\n",
    "plt.title('Top 20 most frequent words')\n",
    "sns.barplot(x=words[:20], y=[frequencies[x] for x in words[:20]])"
   ]
  },
  {
   "cell_type": "markdown",
   "metadata": {},
   "source": [
    "<br>To prepare data for classifier we must choose review length, because all records must have same dimension. We can`t choose maximum lenght, because it is big enough and our data will be too sparse if we use it.\n",
    "From the histogram below we can notice that data distribution is positively skewed. So as length threshold I chossed quantile of level 0.95.</br>"
   ]
  },
  {
   "cell_type": "code",
   "execution_count": 7,
   "metadata": {},
   "outputs": [
    {
     "name": "stdout",
     "output_type": "stream",
     "text": [
      "Quantile of distribution:  3391.0\n",
      "Reviews lengths description\n"
     ]
    },
    {
     "data": {
      "text/plain": [
       "count    50000.000000\n",
       "mean      1309.431020\n",
       "std        989.728014\n",
       "min         32.000000\n",
       "25%        699.000000\n",
       "50%        970.000000\n",
       "75%       1590.250000\n",
       "max      13704.000000\n",
       "Name: comments, dtype: float64"
      ]
     },
     "execution_count": 7,
     "metadata": {},
     "output_type": "execute_result"
    },
    {
     "data": {
      "image/png": "[encoded data removed]",
      "text/plain": [
       "<Figure size 720x504 with 1 Axes>"
      ]
     },
     "metadata": {
      "needs_background": "light"
     },
     "output_type": "display_data"
    }
   ],
   "source": [
    "plt.figure(figsize=(10, 7))\n",
    "review_lengths = df['comments'].map(lambda x: len(x))\n",
    "plt.title('Review lengths')\n",
    "sns.distplot(review_lengths)\n",
    "print('Quantile of distribution: ', review_lengths.quantile(.95))\n",
    "print('Reviews lengths description')\n",
    "review_lengths.describe()"
   ]
  },
  {
   "cell_type": "markdown",
   "metadata": {},
   "source": [
    "<br>In the cell below I applied splitting for training and test sets. Data preprocessed acording to results above. \n",
    "I used word2vec model to get vector representations of words.</br>"
   ]
  },
  {
   "cell_type": "code",
   "execution_count": 8,
   "metadata": {},
   "outputs": [
    {
     "name": "stdout",
     "output_type": "stream",
     "text": [
      "Train set shape: (25000, 3391)\n",
      "Test set shape: (25000, 3391)\n"
     ]
    }
   ],
   "source": [
    "train_x, train_y = (\n",
    "    df['comments'].iloc[:25000].values,\n",
    "    df['sentiment'].iloc[:25000].values\n",
    ")\n",
    "test_x, test_y = (\n",
    "    df['comments'].iloc[25000:].values,\n",
    "    df['sentiment'].iloc[25000:].values\n",
    ")\n",
    "\n",
    "# Applying lemmatization\n",
    "train_x = [tokenizer(x, lemmatize=True, min_l=2) for x in train_x]\n",
    "test_x = [tokenizer(x, lemmatize=True, min_l=2) for x in test_x]\n",
    "\n",
    "# Building word2vec model on reviews data\n",
    "sentencies = train_x + test_x\n",
    "w2v_model = Word2Vec(\n",
    "    sentences=sentencies, size=100, window=6, min_count=1, workers=4\n",
    ") \n",
    "\n",
    "# creating mapping of words to positions in frequency list\n",
    "word_to_rank = dict(zip(words, it.count(start=1)))\n",
    "\n",
    "# creating mapping of words to vector representations\n",
    "word_embedding = [\n",
    "    w2v_model.wv[w] if w in w2v_model.wv.vocab else np.zeros(100) \n",
    "    for w in word_to_rank.keys()\n",
    "]\n",
    "word_embedding.insert(0, np.zeros(100))\n",
    "\n",
    "# preparing data for neural network\n",
    "train_x = [list(map(lambda x: word_to_rank.get(x, 0), r)) for r in train_x]\n",
    "test_x = [list(map(lambda x: word_to_rank.get(x, 0), r)) for r in test_x]\n",
    "\n",
    "train_x = np.array(train_x)\n",
    "test_x = np.array(test_x)\n",
    "word_embedding = np.array(word_embedding)\n",
    "\n",
    "max_review_len = int(review_lengths.quantile(.95))   \n",
    "\n",
    "# padding all reviews to the same length\n",
    "train_x = sequence.pad_sequences(train_x, maxlen=max_review_len, value=0, padding='pre')\n",
    "test_x = sequence.pad_sequences(test_x, maxlen=max_review_len, value=0, padding='pre')\n",
    "\n",
    "print(f'Train set shape: %s\\nTest set shape: %s' % (train_x.shape, test_x.shape))"
   ]
  },
  {
   "cell_type": "markdown",
   "metadata": {},
   "source": [
    "<br>As base classifier I used recurrent neural network with LSTM cells. LSTM is stands for long short term memory. This architecture is suits well for sequance type data, hence we can expect good perfomance in our case. This type of cells takes into account not only input data but previous cell state and output. It manages inputs with special nodes, such as: input gate, candidat cell state, forget gate, output gate, cell state and block output. Tipicaly this nodes consist of linear combination of corresponding cell inputs and nonlinearity being applied, except cell state and block output nodes. With this architecture we can extract inner features of sequance, such as positional relations of words in review, and avoid gradient vanishing problem.</br>"
   ]
  },
  {
   "cell_type": "code",
   "execution_count": 22,
   "metadata": {},
   "outputs": [
    {
     "name": "stdout",
     "output_type": "stream",
     "text": [
      "Model: \"sequential_1\"\n",
      "_________________________________________________________________\n",
      "Layer (type)                 Output Shape              Param #   \n",
      "=================================================================\n",
      "embedding_1 (Embedding)      (None, 3391, 100)         8192000   \n",
      "_________________________________________________________________\n",
      "dropout_3 (Dropout)          (None, 3391, 100)         0         \n",
      "_________________________________________________________________\n",
      "bidirectional_1 (Bidirection (None, 3391, 100)         60400     \n",
      "_________________________________________________________________\n",
      "dropout_4 (Dropout)          (None, 3391, 100)         0         \n",
      "_________________________________________________________________\n",
      "flatten_1 (Flatten)          (None, 339100)            0         \n",
      "_________________________________________________________________\n",
      "dense_2 (Dense)              (None, 8)                 2712808   \n",
      "_________________________________________________________________\n",
      "dropout_5 (Dropout)          (None, 8)                 0         \n",
      "_________________________________________________________________\n",
      "dense_3 (Dense)              (None, 1)                 9         \n",
      "=================================================================\n",
      "Total params: 10,965,217\n",
      "Trainable params: 2,773,217\n",
      "Non-trainable params: 8,192,000\n",
      "_________________________________________________________________\n",
      "Train on 20000 samples, validate on 5000 samples\n",
      "Epoch 1/10\n",
      "20000/20000 [==============================] - 133s 7ms/sample - loss: 0.4691 - accuracy: 0.7699 - auc_score: 0.8582 - val_loss: 0.3132 - val_accuracy: 0.8708 - val_auc_score: 0.9440\n",
      "Epoch 2/10\n",
      "20000/20000 [==============================] - 128s 6ms/sample - loss: 0.3860 - accuracy: 0.8247 - auc_score: 0.9141 - val_loss: 0.3701 - val_accuracy: 0.8666 - val_auc_score: 0.9484\n",
      "Epoch 3/10\n",
      "20000/20000 [==============================] - 128s 6ms/sample - loss: 0.3716 - accuracy: 0.8308 - auc_score: 0.9216 - val_loss: 0.2950 - val_accuracy: 0.8830 - val_auc_score: 0.9513\n",
      "Epoch 4/10\n",
      "20000/20000 [==============================] - 128s 6ms/sample - loss: 0.3540 - accuracy: 0.8372 - auc_score: 0.9272 - val_loss: 0.2922 - val_accuracy: 0.8772 - val_auc_score: 0.9527\n",
      "Epoch 5/10\n",
      "20000/20000 [==============================] - 128s 6ms/sample - loss: 0.3454 - accuracy: 0.8427 - auc_score: 0.9312 - val_loss: 0.2949 - val_accuracy: 0.8866 - val_auc_score: 0.9534\n",
      "Epoch 6/10\n",
      "20000/20000 [==============================] - 128s 6ms/sample - loss: 0.3355 - accuracy: 0.8433 - auc_score: 0.9343 - val_loss: 0.2755 - val_accuracy: 0.8850 - val_auc_score: 0.9561\n",
      "Epoch 7/10\n",
      "20000/20000 [==============================] - 128s 6ms/sample - loss: 0.3282 - accuracy: 0.8486 - auc_score: 0.9365 - val_loss: 0.2918 - val_accuracy: 0.8886 - val_auc_score: 0.9561\n",
      "Epoch 8/10\n",
      "20000/20000 [==============================] - 128s 6ms/sample - loss: 0.3190 - accuracy: 0.8529 - auc_score: 0.9404 - val_loss: 0.2961 - val_accuracy: 0.8876 - val_auc_score: 0.9560\n",
      "Epoch 9/10\n",
      "20000/20000 [==============================] - 128s 6ms/sample - loss: 0.3112 - accuracy: 0.8546 - auc_score: 0.9430 - val_loss: 0.2927 - val_accuracy: 0.8796 - val_auc_score: 0.9584\n",
      "Epoch 10/10\n",
      "20000/20000 [==============================] - 128s 6ms/sample - loss: 0.3098 - accuracy: 0.8515 - auc_score: 0.9430 - val_loss: 0.2901 - val_accuracy: 0.8856 - val_auc_score: 0.9587\n"
     ]
    }
   ],
   "source": [
    "epochs, batch_size = 10, 120  # training parameters\n",
    "\n",
    "# initializing model\n",
    "rnn = get_rnn(\n",
    "    train_x.shape[1:],  # review lenght\n",
    "    len(word_to_rank),  # dictionary size\n",
    "    emb_shape=100,  # number of dimensions of embedding space\n",
    "    drop_prob=.5,\n",
    "    embedding=word_embedding  # weights for embedding\n",
    ")\n",
    "\n",
    "rnn.compile(\n",
    "    loss='binary_crossentropy',\n",
    "    optimizer=Adam(clipnorm=1.),  # applying gradient clipping to prevent gradient explosion\n",
    "    metrics=['accuracy', auc_score]\n",
    ")\n",
    "rnn.fit(train_x, train_y, epochs=epochs, batch_size=batch_size, validation_split=0.2)\n",
    "\n",
    "pred = rnn.predict(test_x)"
   ]
  },
  {
   "cell_type": "markdown",
   "metadata": {},
   "source": [
    "<br>To monitor model training process I used two metrics accuracy and area under ROC curve. First metric is used, because our main goal is to lable reviews according to their sentiment polarity. With this metric me measure percentage of correctly guesed class labels. Since we solving binary classification task, area under ROC curve is a good measure of classification perfomance of the model. From model training log we can see that monitor metrics are getting better with more epochs envolved. Also you can notice that model achieved stable perfomance on training and validation sets.\n",
    "\n",
    "After model training on training set and prediction of scores on test set we must choose threshold for class labeling.\n",
    "I used ROC to get score level which delivers fair compromise between True Positive Rate and False Positive Rate.</br>"
   ]
  },
  {
   "cell_type": "code",
   "execution_count": 23,
   "metadata": {},
   "outputs": [
    {
     "data": {
      "text/plain": [
       "<matplotlib.legend.Legend at 0x1e981966708>"
      ]
     },
     "execution_count": 23,
     "metadata": {},
     "output_type": "execute_result"
    },
    {
     "data": {
      "image/png": "[encoded data removed]",
      "text/plain": [
       "<Figure size 432x288 with 1 Axes>"
      ]
     },
     "metadata": {
      "needs_background": "light"
     },
     "output_type": "display_data"
    }
   ],
   "source": [
    "fpr, tpr, threshold = roc_curve(test_y, pred)\n",
    "plt.title(f'AUC_ROC = %.4f' % roc_auc_score(test_y, pred))\n",
    "plt.plot(fpr, tpr, label='Estimated ROC')\n",
    "plt.plot([0, 1], [0, 1], 'r--', label='Default')\n",
    "plt.plot(fpr, threshold, label='Threshold')\n",
    "plt.xlim([0, 1])\n",
    "plt.ylim([0, 1])\n",
    "plt.ylabel('True Positive Rate')\n",
    "plt.xlabel('False Positive Rate')\n",
    "plt.legend()"
   ]
  },
  {
   "cell_type": "markdown",
   "metadata": {},
   "source": [
    "<br>In cell below presented model evaluation metrics. Prediction threshold is choosed according to AUC plot. Developed model can gues correct review sentiment in 89% of cases.</br>"
   ]
  },
  {
   "cell_type": "code",
   "execution_count": 36,
   "metadata": {},
   "outputs": [
    {
     "name": "stdout",
     "output_type": "stream",
     "text": [
      "              precision    recall  f1-score   support\n",
      "\n",
      "         0.0       0.90      0.87      0.88     12472\n",
      "         1.0       0.88      0.90      0.89     12528\n",
      "\n",
      "    accuracy                           0.89     25000\n",
      "   macro avg       0.89      0.89      0.89     25000\n",
      "weighted avg       0.89      0.89      0.89     25000\n",
      "\n"
     ]
    },
    {
     "data": {
      "image/png": "[encoded data removed]",
      "text/plain": [
       "<Figure size 432x288 with 2 Axes>"
      ]
     },
     "metadata": {
      "needs_background": "light"
     },
     "output_type": "display_data"
    }
   ],
   "source": [
    "pred_l = [1 if x >= 0.56 else 0 for x in pred]\n",
    "print(classification_report(test_y, pred_l))\n",
    "conf_matrix_plot(test_y, pred_l)"
   ]
  }
 ],
 "metadata": {
  "kernelspec": {
   "display_name": "Python 3",
   "language": "python",
   "name": "python3"
  },
  "language_info": {
   "codemirror_mode": {
    "name": "ipython",
    "version": 3
   },
   "file_extension": ".py",
   "mimetype": "text/x-python",
   "name": "python",
   "nbconvert_exporter": "python",
   "pygments_lexer": "ipython3",
   "version": "3.7.4"
  }
 },
 "nbformat": 4,
 "nbformat_minor": 2
}
